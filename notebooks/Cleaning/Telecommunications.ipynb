{
  "nbformat": 4,
  "nbformat_minor": 0,
  "metadata": {
    "colab": {
      "provenance": []
    },
    "kernelspec": {
      "name": "python3",
      "display_name": "Python 3"
    },
    "language_info": {
      "name": "python"
    }
  },
  "cells": [
    {
      "cell_type": "code",
      "execution_count": 22,
      "metadata": {
        "id": "RDYGwBtt_SN5"
      },
      "outputs": [],
      "source": [
        "import os\n",
        "import pandas as pd"
      ]
    },
    {
      "cell_type": "code",
      "source": [
        "input_folder = \"/content/drive/MyDrive/Company_Raw_Data/Telecommunications\"\n",
        "output_folder = \"/content/drive/MyDrive/Cleaned Data/Telecommunications\"\n",
        "os.makedirs(output_folder, exist_ok=True)"
      ],
      "metadata": {
        "id": "R7jwiuFl_UWt"
      },
      "execution_count": 58,
      "outputs": []
    },
    {
      "cell_type": "code",
      "source": [
        "# Sheet names to extract\n",
        "sheet_names = [\"Balance Sheet\", \"Cash Flow\", \"Profit & Loss\", \"Quarters\"]"
      ],
      "metadata": {
        "id": "7LkKHtk5AjSP"
      },
      "execution_count": 59,
      "outputs": []
    },
    {
      "cell_type": "code",
      "source": [
        "def clean_df(df):\n",
        "    # Clean column names\n",
        "    df.columns = (\n",
        "        df.columns\n",
        "        .astype(str)\n",
        "        .str.replace(r'\\s+', ' ', regex=True)\n",
        "        .str.replace(r'[^\\w\\s]', '', regex=True)\n",
        "        .str.strip()\n",
        "    )\n",
        "\n",
        "    # Clean index\n",
        "    df.index = (\n",
        "        df.index.astype(str)\n",
        "        .str.replace(r'\\s+', ' ', regex=True)\n",
        "        .str.strip()\n",
        "    )\n",
        "\n",
        "    # Clean first column (typically labels)\n",
        "    if df.shape[1] > 1:\n",
        "        df.iloc[:, 0] = (\n",
        "            df.iloc[:, 0].astype(str)\n",
        "            .str.replace(r'\\+', '', regex=True)\n",
        "            .str.replace(r'%', '', regex=True)\n",
        "            .str.replace(r'\\s+', ' ', regex=True)\n",
        "            .str.strip()\n",
        "        )\n",
        "\n",
        "    # Remove all % signs from entire DataFrame\n",
        "    df = df.replace(r'%', '', regex=True)\n",
        "\n",
        "    # Convert columns (except first) to numeric\n",
        "    for col in df.columns[1:]:\n",
        "        if not pd.api.types.is_numeric_dtype(df[col]):\n",
        "            df[col] = pd.to_numeric(df[col], errors='coerce')\n",
        "\n",
        "\n",
        "    # Convert row index into column temporarily\n",
        "    df.reset_index(inplace=True)\n",
        "\n",
        "    # Rename first column (previous row labels) to 'Micro_Data'\n",
        "    df.rename(columns={'Unnamed 0': 'Financial_Metric'}, inplace=True)\n",
        "\n",
        "    # Drop columns with more than 50% missing values\n",
        "    df = df.dropna(thresh=0.5 * len(df), axis=1)\n",
        "\n",
        "    # Restore the original index (first column becomes new index)\n",
        "    df.set_index(df.columns[0], inplace=True)\n",
        "\n",
        "    return df\n"
      ],
      "metadata": {
        "id": "at33P6WLBLtJ"
      },
      "execution_count": 60,
      "outputs": []
    },
    {
      "cell_type": "code",
      "source": [
        "# Process and save one Excel file\n",
        "def process_excel_file(file_path):\n",
        "    company_name = os.path.splitext(os.path.basename(file_path))[0]\n",
        "    print(f\"\\n📂 Processing: {company_name}\")\n",
        "\n",
        "    try:\n",
        "        xls = pd.ExcelFile(file_path)\n",
        "        for sheet in sheet_names:\n",
        "            if sheet in xls.sheet_names:\n",
        "                df = pd.read_excel(xls, sheet_name=sheet)\n",
        "                df = clean_df(df)\n",
        "\n",
        "                # Save to CSV\n",
        "                sheet_clean_name = sheet.replace(' ', '_')\n",
        "                output_file = os.path.join(output_folder, f\"{company_name}_{sheet_clean_name}.csv\")\n",
        "                df.to_csv(output_file, index=False)\n",
        "                print(f\"✅ Saved: {output_file}\")\n",
        "\n",
        "                # Display first 10 rows\n",
        "                print(f\"\\n📄 Cleaned Sheet: {company_name} - {sheet}\")\n",
        "                print(df.head(10).to_string(index=False))  # Pretty print\n",
        "\n",
        "    except Exception as e:\n",
        "        print(f\"❌ Error processing {file_path}: {e}\")\n"
      ],
      "metadata": {
        "id": "j4ypAvTRDkV7"
      },
      "execution_count": 61,
      "outputs": []
    },
    {
      "cell_type": "code",
      "source": [
        "# Loop through Excel files\n",
        "for filename in os.listdir(input_folder):\n",
        "    if filename.endswith(('.xlsx', '.xls')) and not filename.startswith('~$'):\n",
        "        file_path = os.path.join(input_folder, filename)\n",
        "        process_excel_file(file_path)"
      ],
      "metadata": {
        "id": "VkTzQey-HgLV",
        "colab": {
          "base_uri": "https://localhost:8080/"
        },
        "outputId": "f51c9faf-b57b-4986-ec75-264aab79f1bd"
      },
      "execution_count": 62,
      "outputs": [
        {
          "output_type": "stream",
          "name": "stdout",
          "text": [
            "\n",
            "📂 Processing: BHARTIARTL\n",
            "✅ Saved: /content/drive/MyDrive/Cleaned Data/Telecommunications/BHARTIARTL_Balance_Sheet.csv\n",
            "\n",
            "📄 Cleaned Sheet: BHARTIARTL - Balance Sheet\n",
            " Financial_Metric  Mar 2014  Mar 2015  Mar 2016  Mar 2017  Mar 2018  Mar 2019  Mar 2020  Mar 2021  Mar 2022  Mar 2023  Mar 2024  Mar 2025\n",
            "   Equity Capital      1999      1999      1999      1999      1999      1999      2728      2746      2795      2837      2877      2900\n",
            "         Reserves     57757     37778     64771     65458     67536     69424     74417     56207     63759     74726     79142    110772\n",
            "       Borrowings     75896     83415    100646    107288    111334    125428    148228    162785    169678    226020    215592    213642\n",
            "Other Liabilities     45840     58747     57056     57578     68653     77176    133718    122679    124975    140974    144408    187046\n",
            "Total Liabilities    181492    181939    224472    232322    249521    274026    359091    344417    361207    444557    442019    514360\n",
            "     Fixed Assets    140614    124279    172293    178235    187200    200832    229256    223480    244083    277394    303303    388871\n",
            "             CWIP         0     17415      5702     10838      9751      9634      4282      5726      5955     49425     16904     10596\n",
            "      Investments     15531     10752     11977     14339     16159     15711     25476     27550     29349     32954     31602      5838\n",
            "     Other Assets     25347     29494     34500     28910     36411     47850    100077     87661     81820     84784     90210    109055\n",
            "     Total Assets    181492    181939    224472    232322    249521    274026    359091    344417    361207    444557    442019    514360\n",
            "✅ Saved: /content/drive/MyDrive/Cleaned Data/Telecommunications/BHARTIARTL_Cash_Flow.csv\n",
            "\n",
            "📄 Cleaned Sheet: BHARTIARTL - Cash Flow\n",
            "            Financial_Metric  Mar 2014  Mar 2015  Mar 2016  Mar 2017  Mar 2018  Mar 2019  Mar 2020  Mar 2021  Mar 2022  Mar 2023  Mar 2024  Mar 2025\n",
            "Cash from Operating Activity     26233     28059     27942     28280     29854     20070     18129     48205     55017     65325     78898     98332\n",
            "Cash from Investing Activity    -25181    -22301    -14091    -30680    -27940    -28286    -29598    -27286    -41478    -39232    -51089    -60270\n",
            "Cash from Financing Activity      2774     -9672    -11946      -351      1920      9464     19144    -24910    -15203    -24470    -27778    -36533\n",
            "               Net Cash Flow      3826     -3914      1905     -2752      3835      1248      7675     -3991     -1664      1623        31      1529\n",
            "✅ Saved: /content/drive/MyDrive/Cleaned Data/Telecommunications/BHARTIARTL_Profit_&_Loss.csv\n",
            "\n",
            "📄 Cleaned Sheet: BHARTIARTL - Profit & Loss\n",
            " Financial_Metric  Mar 2014  Mar 2015  Mar 2016  Mar 2017  Mar 2018  Mar 2019  Mar 2020  Mar 2021  Mar 2022  Mar 2023  Mar 2024  Mar 2025\n",
            "            Sales   85864.0   96101.0   96532.0   95468.0   82639.0   80780.0   87539.0  100616.0  116547.0  139145.0  149982.0  172985.0\n",
            "         Expenses   59352.0   62499.0   62548.0   60138.0   52560.0   55016.0   50930.0   55337.0   59013.0   67871.0   71691.0   79826.0\n",
            " Operating Profit   26512.0   33602.0   33984.0   35330.0   30079.0   25764.0   36610.0   45279.0   57534.0   71274.0   78292.0   93159.0\n",
            "              OPM      31.0      35.0      35.0      37.0      36.0      32.0      42.0      45.0      49.0      51.0      52.0      54.0\n",
            "     Other Income    2881.0    1243.0    4858.0    1713.0    1756.0    4474.0  -37775.0   -4215.0    4656.0    1019.0   -3428.0   12564.0\n",
            "         Interest    5879.0    4446.0    8546.0    9547.0    9326.0   10622.0   13992.0   15091.0   16616.0   19300.0   22648.0   21754.0\n",
            "     Depreciation   15650.0   19858.0   17450.0   19773.0   19243.0   21348.0   27690.0   29404.0   33091.0   36432.0   39538.0   45570.0\n",
            "Profit before tax    7864.0   10540.0   12846.0    7723.0    3267.0   -1732.0  -42846.0   -3432.0   12483.0   16561.0   12679.0   38398.0\n",
            "              Tax      62.0      52.0      46.0      45.0      33.0    -197.0     -28.0     260.0      33.0      26.0      32.0       2.0\n",
            "       Net Profit    3019.0    5048.0    6893.0    4241.0    2184.0    1688.0  -30664.0  -12364.0    8305.0   12287.0    8558.0   37481.0\n",
            "✅ Saved: /content/drive/MyDrive/Cleaned Data/Telecommunications/BHARTIARTL_Quarters.csv\n",
            "\n",
            "📄 Cleaned Sheet: BHARTIARTL - Quarters\n",
            " Financial_Metric  Mar 2022  Jun 2022  Sep 2022  Dec 2022  Mar 2023  Jun 2023  Sep 2023  Dec 2023  Mar 2024  Jun 2024  Sep 2024  Dec 2024  Mar 2025\n",
            "            Sales   31500.0   32805.0   34527.0   35804.0   36009.0   37440.0   37044.0   37900.0   37599.0   38506.0   41473.0   45129.0   47876.0\n",
            "         Expenses   15460.0   16275.0   16933.0   17720.0   17312.0   17842.0   17530.0   18085.0   18234.0   18799.0   19627.0   20533.0   20867.0\n",
            " Operating Profit   16040.0   16529.0   17594.0   18085.0   18697.0   19598.0   19514.0   19815.0   19365.0   19708.0   21846.0   24597.0   27009.0\n",
            "              OPM      51.0      50.0      51.0      51.0      52.0      52.0      53.0      52.0      52.0      51.0      53.0      54.0      56.0\n",
            "     Other Income    1638.0     355.0     559.0    -412.0     886.0   -2478.0    -654.0    1013.0   -1308.0    2010.0     475.0    9675.0     403.0\n",
            "         Interest    4059.0    4511.0    4940.0    4686.0    5163.0    5614.0    5186.0    6645.0    5203.0    5152.0    5424.0    5676.0    5502.0\n",
            "     Depreciation    8583.0    8781.0    8947.0    9298.0    9406.0    9654.0    9734.0   10074.0   10075.0   10540.0   11000.0   11704.0   12326.0\n",
            "Profit before tax    5037.0    3592.0    4265.0    3689.0    5014.0    1853.0    3940.0    4108.0    2778.0    6025.0    5897.0   16892.0    9584.0\n",
            "              Tax      26.0      31.0      30.0      29.0      16.0      18.0      47.0      30.0      26.0      22.0      30.0       4.0     -30.0\n",
            "       Net Profit    3715.0    2469.0    2979.0    2614.0    4226.0    1520.0    2093.0    2876.0    2068.0    4718.0    4153.0   16135.0   12476.0\n",
            "\n",
            "📂 Processing: IDEA\n",
            "✅ Saved: /content/drive/MyDrive/Cleaned Data/Telecommunications/IDEA_Balance_Sheet.csv\n",
            "\n",
            "📄 Cleaned Sheet: IDEA - Balance Sheet\n",
            " Financial_Metric  Mar 2013  Mar 2014  Mar 2015  Mar 2016  Mar 2017  Mar 2018  Mar 2019  Mar 2020  Mar 2021  Mar 2022  Mar 2023  Mar 2024  Sep 2024\n",
            "   Equity Capital      3314      3320      3598      3601      3605      4359      8736     28735     28735     32119     48680     50120     69700\n",
            "         Reserves     10989     13205     19429     19950     21127     22903     50899    -22756    -66963    -94084   -123039   -154287   -165096\n",
            "       Borrowings     14046     20637     26859     40541     55055     57985    125940    114996    201720    213761    237766    243809    250167\n",
            "Other Liabilities      8029      9396     10580     16034     16881     13264     44078    105942     39986     42233     43836     45355     42226\n",
            "Total Liabilities     36378     46557     60467     80126     96668     98511    229652    226918    203478    194029    207243    184997    196997\n",
            "     Fixed Assets     29160     29602     35540     65190     76763     79692    177800    185836    167490    156819    156255    140125    155055\n",
            "             CWIP       881     11419      5141      6040      7535      3585      5103      1138       606       364     17876     18189       808\n",
            "      Investments      1028       216     11527      3471      6378      7290      8239      1979         4         5         6         0       417\n",
            "     Other Assets      5309      5321      8260      5425      5991      7944     38511     37964     35378     36841     33105     26683     40717\n",
            "     Total Assets     36378     46557     60467     80126     96668     98511    229652    226918    203478    194029    207243    184997    196997\n",
            "✅ Saved: /content/drive/MyDrive/Cleaned Data/Telecommunications/IDEA_Cash_Flow.csv\n",
            "\n",
            "📄 Cleaned Sheet: IDEA - Cash Flow\n",
            "            Financial_Metric  Mar 2013  Mar 2014  Mar 2015  Mar 2016  Mar 2017  Mar 2018  Mar 2019  Mar 2020  Mar 2021  Mar 2022  Mar 2023  Mar 2024\n",
            "Cash from Operating Activity      6297      8219     10418     10949     10476      5332      5348      7328     15640     17387     18869     20826\n",
            "Cash from Investing Activity     -3411     -6565     -5726     -2389    -15556     -9303     -1640     -2698      1075     -5730     -5414     -1907\n",
            "Cash from Financing Activity     -1965     -2466      8028     -9330      4506      3925     -2949     -5019    -16731    -10554    -14680    -18980\n",
            "               Net Cash Flow       921      -811     12720      -770      -574       -46       758      -389       -17      1103     -1224       -61\n",
            "✅ Saved: /content/drive/MyDrive/Cleaned Data/Telecommunications/IDEA_Profit_&_Loss.csv\n",
            "\n",
            "📄 Cleaned Sheet: IDEA - Profit & Loss\n",
            " Financial_Metric  Mar 2013  Mar 2014  Mar 2015  Mar 2016  Mar 2017  Mar 2018  Mar 2019  Mar 2020  Mar 2021  Mar 2022  Mar 2023  Mar 2024      TTM\n",
            "            Sales   22407.0   26519.0   31571.0   35949.0   35576.0   28279.0   37092.0   44958.0   41952.0   38516.0   42177.0   42652.0  43165.0\n",
            "         Expenses   16439.0   18237.0   20771.0   24281.0   25348.0   22224.0   32976.0   30042.0   25006.0   22547.0   25424.0   25580.0  25365.0\n",
            " Operating Profit    5969.0    8282.0   10800.0   11668.0   10227.0    6054.0    4116.0   14916.0   16946.0   15968.0   16753.0   17072.0  17800.0\n",
            "              OPM      27.0      31.0      34.0      32.0      29.0      21.0      11.0      33.0      40.0      41.0      40.0      40.0     41.0\n",
            "     Other Income     131.0     247.0     497.0     641.0     746.0     703.0    1789.0  -36964.0  -19563.0     363.0     354.0     917.0    838.0\n",
            "         Interest    1045.0     966.0    1060.0    1803.0    4010.0    4847.0    9545.0   15393.0   17998.0   20981.0   23354.0   25766.0  24352.0\n",
            "     Depreciation    3478.0    4519.0    5304.0    6256.0    7827.0    8409.0   14536.0   24356.0   23638.0   23584.0   23050.0   22634.0  22153.0\n",
            "Profit before tax    1577.0    3044.0    4933.0    4250.0    -863.0   -6499.0  -18175.0  -61797.0  -44253.0  -28234.0  -29298.0  -30410.0 -27867.0\n",
            "              Tax      36.0      35.0      35.0      36.0     -54.0     -36.0     -20.0      20.0      -0.0       0.0       0.0       3.0      NaN\n",
            "       Net Profit    1011.0    1968.0    3193.0    2728.0    -400.0   -4168.0  -14604.0  -73878.0  -44233.0  -28245.0  -29301.0  -31238.0 -27892.0\n",
            "✅ Saved: /content/drive/MyDrive/Cleaned Data/Telecommunications/IDEA_Quarters.csv\n",
            "\n",
            "📄 Cleaned Sheet: IDEA - Quarters\n",
            " Financial_Metric  Dec 2021  Mar 2022  Jun 2022  Sep 2022  Dec 2022  Mar 2023  Jun 2023  Sep 2023  Dec 2023  Mar 2024  Jun 2024  Sep 2024  Dec 2024\n",
            "            Sales    9717.0   10240.0   10410.0   10615.0   10621.0   10532.0   10656.0   10716.0   10673.0   10607.0   10508.0   10932.0   11117.0\n",
            "         Expenses    5901.0    5590.0    6082.0    6517.0    6440.0    6322.0    6499.0    6435.0    6324.0    6274.0    6304.0    6383.0    6405.0\n",
            " Operating Profit    3816.0    4649.0    4328.0    4097.0    4181.0    4210.0    4156.0    4282.0    4349.0    4333.0    4205.0    4550.0    4712.0\n",
            "              OPM      39.0      45.0      42.0      39.0      39.0      40.0      39.0      40.0      41.0      41.0      40.0      42.0      42.0\n",
            "     Other Income      21.0      19.0      84.0      96.0      38.0      71.0      21.0      34.0     780.0      32.0     256.0     300.0     250.0\n",
            "         Interest    5325.0    5316.0    5901.0    6129.0    6323.0    5002.0    6398.0    6569.0    6518.0    6280.0    5519.0    6614.0    5940.0\n",
            "     Depreciation    5739.0    5913.0    5804.0    5656.0    5886.0    5704.0    5616.0    5667.0    5598.0    5751.0    5369.0    5404.0    5629.0\n",
            "Profit before tax   -7226.0   -6561.0   -7293.0   -7591.0   -7990.0   -6424.0   -7837.0   -7920.0   -6987.0   -7666.0   -6427.0   -7168.0   -6607.0\n",
            "              Tax       0.0       0.0       0.0       0.0       0.0      -0.0       0.0      10.0      -0.0       0.0       0.0       0.0       0.0\n",
            "       Net Profit   -7231.0   -6563.0   -7297.0   -7596.0   -7990.0   -6419.0   -7840.0   -8738.0   -6986.0   -7675.0   -6432.0   -7176.0   -6609.0\n"
          ]
        }
      ]
    },
    {
      "cell_type": "code",
      "source": [],
      "metadata": {
        "id": "GJGKw7Alftz-"
      },
      "execution_count": null,
      "outputs": []
    }
  ]
}