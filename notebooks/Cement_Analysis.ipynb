{
  "nbformat": 4,
  "nbformat_minor": 0,
  "metadata": {
    "colab": {
      "provenance": []
    },
    "kernelspec": {
      "name": "python3",
      "display_name": "Python 3"
    },
    "language_info": {
      "name": "python"
    }
  },
  "cells": [
    {
      "cell_type": "code",
      "source": [
        "!pip install xlsxwriter\n"
      ],
      "metadata": {
        "colab": {
          "base_uri": "https://localhost:8080/"
        },
        "collapsed": true,
        "id": "dTvJK_y59Vqb",
        "outputId": "32367de7-284f-4f4a-b989-91ab3779219c"
      },
      "execution_count": 29,
      "outputs": [
        {
          "output_type": "stream",
          "name": "stdout",
          "text": [
            "Requirement already satisfied: xlsxwriter in /usr/local/lib/python3.11/dist-packages (3.2.3)\n"
          ]
        }
      ]
    },
    {
      "cell_type": "code",
      "execution_count": 47,
      "metadata": {
        "id": "zoU5Cg3Ywr9p"
      },
      "outputs": [],
      "source": [
        "import pandas as pd\n",
        "import os"
      ]
    },
    {
      "cell_type": "code",
      "source": [
        "\n",
        "# Path where the Cement sector balance sheets are stored\n",
        "folder_path = \"/content/drive/MyDrive/Cement_BalanceSheet\"  # Update if your path is different\n",
        "\n",
        "# Output file path\n",
        "output_file = \"/content/drive/MyDrive/Cement_Combined_Balance_Sheets.xlsx\""
      ],
      "metadata": {
        "id": "rERe5LMl5m-i"
      },
      "execution_count": 51,
      "outputs": []
    },
    {
      "cell_type": "code",
      "source": [
        "with pd.ExcelWriter(output_file, engine='xlsxwriter') as writer:\n",
        "    for filename in os.listdir(folder_path):\n",
        "        if filename.endswith(\".csv\"):\n",
        "            file_path = os.path.join(folder_path, filename)\n",
        "            company_name = filename.split(\".csv\")[0]\n",
        "\n",
        "            # Read CSV\n",
        "            df = pd.read_csv(file_path)\n",
        "\n",
        "            # Insert 'Company' column after 'Financial_Metric'\n",
        "            if 'Financial_Metric' in df.columns:\n",
        "                col_list = df.columns.tolist()\n",
        "                idx = col_list.index('Financial_Metric') + 1\n",
        "                col_list.insert(idx, 'Company')\n",
        "                df['Company'] = company_name\n",
        "                df = df[col_list]\n",
        "            else:\n",
        "                df['Company'] = company_name\n",
        "\n",
        "            # Identify numeric columns excluding 'Company' and 'Financial_Metric'\n",
        "            numeric_cols = df.select_dtypes(include='number').columns.tolist()\n",
        "\n",
        "            # Add new columns 'Avg_Value' and 'Median_Value' initialized as NaN\n",
        "            df['Avg_Value'] = pd.NA\n",
        "            df['Median_Value'] = pd.NA\n",
        "\n",
        "            # Calculate average and median per row (financial term) over numeric columns\n",
        "            df['Avg_Value'] = df[numeric_cols].mean(axis=1)\n",
        "            df['Median_Value'] = df[numeric_cols].median(axis=1)\n",
        "\n",
        "            # Write to Excel sheet\n",
        "            df.to_excel(writer, sheet_name=company_name[:31], index=False)\n",
        "\n",
        "print(\"✅ Combined Excel created with Avg_Value and Median_Value columns added.\")\n"
      ],
      "metadata": {
        "colab": {
          "base_uri": "https://localhost:8080/"
        },
        "id": "E_LAVyFo8113",
        "outputId": "77e4c049-0e55-47c3-b663-11c8c78e39d0"
      },
      "execution_count": 52,
      "outputs": [
        {
          "output_type": "stream",
          "name": "stdout",
          "text": [
            "✅ Combined Excel created with Avg_Value and Median_Value columns added.\n"
          ]
        }
      ]
    },
    {
      "cell_type": "code",
      "source": [
        "import os\n",
        "print(\"Current working directory:\", os.getcwd())\n"
      ],
      "metadata": {
        "id": "1pCRYmiG9KhU",
        "colab": {
          "base_uri": "https://localhost:8080/"
        },
        "outputId": "0f2d1fa2-7720-4e15-9f6c-4f93b3556ba8"
      },
      "execution_count": 33,
      "outputs": [
        {
          "output_type": "stream",
          "name": "stdout",
          "text": [
            "Current working directory: /content\n"
          ]
        }
      ]
    },
    {
      "cell_type": "code",
      "source": [],
      "metadata": {
        "id": "YPXDE6evtnJ5"
      },
      "execution_count": null,
      "outputs": []
    }
  ]
}